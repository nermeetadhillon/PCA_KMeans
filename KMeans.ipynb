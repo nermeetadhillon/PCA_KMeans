{
 "cells": [
  {
   "cell_type": "code",
   "execution_count": 1,
   "metadata": {},
   "outputs": [],
   "source": [
    "import numpy as np\n",
    "import matplotlib.pyplot as plt\n",
    "from sklearn.decomposition import PCA\n",
    "\n",
    "np.random.seed(1)\n",
    "%matplotlib inline"
   ]
  },
  {
   "cell_type": "markdown",
   "metadata": {},
   "source": [
    "## Load data\n",
    "\n",
    "Load data and preprocess."
   ]
  },
  {
   "cell_type": "code",
   "execution_count": 2,
   "metadata": {},
   "outputs": [
    {
     "name": "stdout",
     "output_type": "stream",
     "text": [
      "Shape of X: (4096, 491)\n"
     ]
    }
   ],
   "source": [
    "X_all = np.load(open('X_train.npy', 'rb'))\n",
    "\n",
    "X1 = X_all[:163, :]\n",
    "X2 = X_all[163:327, :]\n",
    "X3 = X_all[327:491, :]\n",
    "\n",
    "X = np.concatenate((X1, X2, X3), axis=0)\n",
    "X = np.transpose(X, (1,2,3,0)).reshape(-1, X.shape[0])\n",
    "print('Shape of X:', X.shape)"
   ]
  },
  {
   "cell_type": "markdown",
   "metadata": {},
   "source": [
    "---\n",
    "## Analysis\n",
    "\n",
    "First, we reduce and dimension of the original data to 2, and plot it. The goal of this step is to have some clues of what $k$ values to use, i.e., the number of clusters.\n",
    "\n",
    "We know that image data of 3 classes are selected, but we use them as if they are unlabelled. Judging from the 2-D plot, there are quite amount of outliers in data, and choosing $k=3$ may well group those outliers into a cluster, instead of grouping into the correct classes. For this we will find out at the last step."
   ]
  },
  {
   "cell_type": "code",
   "execution_count": 3,
   "metadata": {},
   "outputs": [
    {
     "data": {
      "image/png": "[encoded data removed]",
      "text/plain": [
       "<Figure size 432x288 with 1 Axes>"
      ]
     },
     "metadata": {
      "needs_background": "light"
     },
     "output_type": "display_data"
    }
   ],
   "source": [
    "pca = PCA(n_components=2)\n",
    "pca.fit(X.T)\n",
    "X_proj = pca.transform(X.T)\n",
    "\n",
    "# Plot\n",
    "fig = plt.figure()\n",
    "plt.scatter(X_proj[:,0], X_proj[:,1])\n",
    "plt.show()"
   ]
  },
  {
   "cell_type": "markdown",
   "metadata": {},
   "source": [
    "---\n",
    "## Task 1. Initialize centroids\n",
    "\n",
    "\n",
    "The first step of k-means is to randomly initialize a set of centroids. To accomplish this, we simply select $k$ out of the $m$ data points randomly.\n",
    "\n",
    "**Instructions:**\n",
    "- Data are stored in columns in `X`. We draw `k` random columns out of it by calling `numpy.random.choice()`. Notice that use the argument `replace=False` is important. Otherwise, it is possible to sample repeated points.\n",
    "- The returned `centroids` are in shape (n, k)."
   ]
  },
  {
   "cell_type": "code",
   "execution_count": 4,
   "metadata": {},
   "outputs": [],
   "source": [
    "# Initialize centroids\n",
    "def init_centroids(X, k):\n",
    "    \"\"\"\n",
    "    Args:\n",
    "    X -- data, shape (n, m)\n",
    "    k -- number of clusters\n",
    "    \n",
    "    Return:\n",
    "    centroids -- k randomly picked data points as initial centroids, shape (n, k)\n",
    "    \"\"\"\n",
    "    assert(k > 1)\n",
    "    np.random.seed(1)\n",
    "    \n",
    "    ### START YOUR CODE ###\n",
    "    centroids = X[:,np.random.choice(X.shape[1], size=k, replace=False)]\n",
    "    ### END YOUR CODE ###\n",
    "    \n",
    "    return centroids"
   ]
  },
  {
   "cell_type": "code",
   "execution_count": 5,
   "metadata": {},
   "outputs": [
    {
     "name": "stdout",
     "output_type": "stream",
     "text": [
      "Shape of centroids: (4, 3)\n",
      "centroids: [[-0.52817175 -0.24937038  1.74481176]\n",
      " [-0.3224172   0.58281521 -0.17242821]\n",
      " [ 0.90159072  0.53035547 -0.12289023]\n",
      " [-0.6871727   0.74204416 -1.11731035]]\n",
      "(4, 1, 3)\n",
      "(10, 4)\n",
      "(3, 1, 4)\n",
      "(3, 10, 4)\n"
     ]
    }
   ],
   "source": [
    "# Evaluate Task 1\n",
    "np.random.seed(1)\n",
    "X_tmp = np.random.randn(4, 10)\n",
    "c = init_centroids(X_tmp, k=3)\n",
    "\n",
    "print('Shape of centroids:', c.shape)\n",
    "print('centroids:', c)\n",
    "\n",
    "c_expanded = np.expand_dims(c, axis=1)\n",
    "print(c_expanded.shape)\n",
    "print(X_tmp.T.shape)\n",
    "print(c_expanded.T.shape)\n",
    "print((X_tmp.T - c_expanded.T).shape)"
   ]
  },
  {
   "cell_type": "markdown",
   "metadata": {},
   "source": [
    "### Expected output\n",
    "\n",
    "|&nbsp;|&nbsp; |          \n",
    "|--|--|\n",
    "|**Shape of centroids:**|(4, 3)|\n",
    "|**centroids:**|[[-0.52817175 -0.24937038  1.74481176]<br>[-0.3224172   0.58281521 -0.17242821]<br>[ 0.90159072  0.53035547 -0.12289023]]<br>[-0.6871727   0.74204416 -1.11731035]|\n",
    "\n",
    "***\n",
    "\n",
    "## Task 2. Compute distance between data points and centroids\n",
    "\n",
    "\n",
    "Next, we need to compute the distances between data points and centroids. More concretely, for each data point `X[:,i]`, we need to compute its distance from the $k$ centroids, i.e., `centroids[:, j]` ($j=1,2,\\dots,k$). We will store the computed distances in a $k\\times m$ array, in which the element at position $(j, i)$ is the distance between `X[:,i]` and `centroids[:,j]`. The distance we talk about here is Euclidean distance.\n",
    "\n",
    "There are multiple ways of implementing this computation. The most efficient way is as follows:\n",
    "- First, expand `centroids` by adding one demension to it, so that its shape changes from (n, k) to (n, 1, k). This can be done by calling `np.expand_dims()`.\n",
    "- Second, transpose `X` and `centroids_expanded`. The former has shape (m, n) and the latter has shape (k, 1, n). Then the subtraction `S = X.T - centroids_expanded.T` will be in shape (k, m, n). For why it is the case, read the documentation about the broadcasting mechanism of numpy __[here](https://docs.scipy.org/doc/numpy-1.15.1/reference/generated/numpy.broadcast.html)__. \n",
    "Next, following the definition of Euclidean distance, we need to:\n",
    "    - Compute `S**2`, which is in shape (k, m, n).\n",
    "    - Sum over `S**2` along `axis=2`, which eliminate the last dimension.\n",
    "    - Apply `numpy.sqrt()` to `S**2`, resulting in an array of shape (k, m), which gives the Euclidean distances.\n",
    "\n",
    "If you found the above method hard to follow, you can also use an explicit for loop to do the computation.\n",
    "- You create an empty array `distances` of shape (k, m).\n",
    "- Then you use a for loop, `for j in range(k):`, and in each step, you compute `S = X - centroids[:,j]` followed by `S**2`, `numpy.sum()`, and `numpy.sqrt()` to get the Euclidean distance, which is stored in a (1,m) array `d`. Then you copy `d` back to the `j`th row of `distances`."
   ]
  },
  {
   "cell_type": "code",
   "execution_count": 6,
   "metadata": {},
   "outputs": [],
   "source": [
    "# Compute distances\n",
    "def compute_distances(X, centroids):\n",
    "    \"\"\"\n",
    "    Args:\n",
    "    X -- data, shape (n, m)\n",
    "    centroids -- shape (n, k)\n",
    "    \n",
    "    Return:\n",
    "    distances -- shape (k, m)\n",
    "    \"\"\"\n",
    "    ### START YOUR CODE ###\n",
    "    centroids_expanded = np.expand_dims(centroids, axis=1)\n",
    "    to_square = np.sum((X.T - centroids_expanded.T)**2, axis=2)\n",
    "    distances = np.sqrt(to_square)\n",
    "    ### END YOUR CODE ###\n",
    "    \n",
    "    return distances"
   ]
  },
  {
   "cell_type": "code",
   "execution_count": 7,
   "metadata": {},
   "outputs": [
    {
     "name": "stdout",
     "output_type": "stream",
     "text": [
      "Distances: [[3.19996571 3.13120276 0.         1.52120576 2.54127667]\n",
      " [5.88553536 0.         3.13120276 2.25851302 4.11463616]]\n"
     ]
    }
   ],
   "source": [
    "# Evaluate Task 2\n",
    "np.random.seed(1)\n",
    "X_tmp = np.random.randn(4, 5)\n",
    "c = init_centroids(X_tmp, k=2)\n",
    "\n",
    "dists = compute_distances(X_tmp, c)\n",
    "print('Distances:', dists)"
   ]
  },
  {
   "cell_type": "markdown",
   "metadata": {},
   "source": [
    "### Expected output\n",
    "\n",
    "|&nbsp;|&nbsp; |          \n",
    "|--|--|\n",
    "|**Distances:**|[[3.19996571 3.13120276 0.         1.52120576 2.54127667]<br>[5.88553536 0.         3.13120276 2.25851302 4.11463616]]|\n",
    "\n",
    "***\n",
    "\n",
    "## Task 3. Find the closest centroid for each data point\n",
    "\n",
    "Given the distances computed, we can find the closest centroid for each data point. We store this information in a $1\\times m$ array, and each element is the index of the closest centroid, i.e., an integer ranging from $0$ to $k-1$.\n",
    "\n",
    "**Instructions:**\n",
    "- You can apply `numpy.argmin()` on the `distances` computed in previous step as input, and a proper `axis` argument."
   ]
  },
  {
   "cell_type": "code",
   "execution_count": 8,
   "metadata": {},
   "outputs": [],
   "source": [
    "# Find the closest centroid for each data point\n",
    "def cloeset_centroid(distances):\n",
    "    \"\"\"\n",
    "    Args:\n",
    "    distances -- numpy array of shape (k, m), output of compute_distances()\n",
    "    \n",
    "    Return:\n",
    "    indices -- numpy array of shape (1, m)\n",
    "    \"\"\"\n",
    "    ### START YOUR CODE ###\n",
    "    indices = np.argmin(distances, axis=0)\n",
    "    ### END YOUR CODE ###\n",
    "    \n",
    "    return indices"
   ]
  },
  {
   "cell_type": "code",
   "execution_count": 9,
   "metadata": {},
   "outputs": [
    {
     "name": "stdout",
     "output_type": "stream",
     "text": [
      "Indices of the cloest centroids: [0 1 0 0 0]\n"
     ]
    }
   ],
   "source": [
    "# Evaluate Task 3\n",
    "np.random.seed(1)\n",
    "X_tmp = np.random.randn(4, 5)\n",
    "c = init_centroids(X_tmp, k=2)\n",
    "\n",
    "dists = compute_distances(X_tmp, c)\n",
    "closest_indices = cloeset_centroid(dists)\n",
    "\n",
    "print('Indices of the cloest centroids:', closest_indices)"
   ]
  },
  {
   "cell_type": "markdown",
   "metadata": {},
   "source": [
    "### Expected output\n",
    "\n",
    "|&nbsp;|&nbsp; |          \n",
    "|--|--|\n",
    "|**Indices of the cloest centroids:**|[0 1 0 0 0]|\n",
    "\n",
    "***\n",
    "\n",
    "## Task 4. Update centroids\n",
    "\n",
    "\n",
    "Given the indices of closest centroid for each data point, you need to update the centroids by computing the average positions of the data points belonging to each cluster ($1,2,\\dots,k$).\n",
    "\n",
    "**Instructions:**\n",
    "- Because `closest_indices` (output of `closes_centroid()`) is of shape (1, m), you can access the data points whose closest centroid is `j` by using the slice `X[:, closest_indices==j]`.\n",
    "- Pay attention to the dimension of `new_centroids` computed, and it needs to be the same as `centroids`."
   ]
  },
  {
   "cell_type": "code",
   "execution_count": 10,
   "metadata": {},
   "outputs": [],
   "source": [
    "# Update centroids\n",
    "def update_centroids(X, closest_indices, centroids):\n",
    "    \"\"\"\n",
    "    Args:\n",
    "    X -- data, shape (n, m)\n",
    "    cloesest_indices -- output of closest_centroid()\n",
    "    centroids -- old centroids positions\n",
    "    \n",
    "    Return:\n",
    "    new_centroids -- new centroids positions, shape (n, k)\n",
    "    \"\"\"\n",
    "    ### START YOUR CODE ### \n",
    "    new_centroids = np.array([np.mean(X[:,closest_indices == j], axis=1) for j in range(centroids.shape[1])]).T\n",
    "    ### END YOUR CODE ###\n",
    "    \n",
    "    assert(centroids.shape == new_centroids.shape)\n",
    "    \n",
    "    return new_centroids"
   ]
  },
  {
   "cell_type": "code",
   "execution_count": 11,
   "metadata": {},
   "outputs": [
    {
     "name": "stdout",
     "output_type": "stream",
     "text": [
      "New centroids: [[ 0.22215315 -0.61175641]\n",
      " [-0.74826922  1.74481176]\n",
      " [ 0.47235146 -2.06014071]\n",
      " [-0.33818018 -0.17242821]]\n"
     ]
    }
   ],
   "source": [
    "# Evaluate Task 4\n",
    "np.random.seed(1)\n",
    "X_tmp = np.random.randn(4, 5)\n",
    "c = init_centroids(X_tmp, k=2)\n",
    "\n",
    "dists = compute_distances(X_tmp, c)\n",
    "closest_indices = cloeset_centroid(dists)\n",
    "new_c = update_centroids(X_tmp, closest_indices, c)\n",
    "\n",
    "print('New centroids:', new_c)"
   ]
  },
  {
   "cell_type": "markdown",
   "metadata": {},
   "source": [
    "### Expected output\n",
    "\n",
    "|&nbsp;|&nbsp; |          \n",
    "|--|--|\n",
    "|**New centroids:**|[[ 0.22215315 -0.61175641]<br>[-0.74826922  1.74481176]<br>[ 0.47235146 -2.06014071]<br>[-0.33818018 -0.17242821]]|\n",
    "\n",
    "***\n",
    "\n",
    "## Task 5. Integrated model\n",
    "\n",
    "Finally, we combine all the previous steps into one model. We repeatedly find the closest centroid for each data points, and then update the centroids, until the centroids no longer change. The final stable `closest_indices` is then the clustering result."
   ]
  },
  {
   "cell_type": "code",
   "execution_count": null,
   "metadata": {},
   "outputs": [],
   "source": [
    "# K-means\n",
    "def kmeans(X, k):\n",
    "    \"\"\"\n",
    "    Args:\n",
    "    X -- data, shape (n, m)\n",
    "    k -- number of clusters\n",
    "    \n",
    "    Return:\n",
    "    closest_indices -- final assignment of clusters to each data point, shape (1, m)\n",
    "    centroids -- final positions of centroids\n",
    "    \"\"\"\n",
    "    ### START YOUR CODE ###\n",
    "    centroids = init_centroids(X, k)\n",
    "    ### END YOUR CODE ###\n",
    "    \n",
    "    old_centroids = None\n",
    "    while not np.array_equal(old_centroids, centroids):\n",
    "        # Backup centroids\n",
    "        old_centroids = np.copy(centroids)\n",
    "        \n",
    "        ### START YOUR CODE ###\n",
    "        # Compute distances\n",
    "        distances = None\n",
    "        \n",
    "        # Find cloeset centroid\n",
    "        closest_indices = None\n",
    "        \n",
    "        # Update centroids\n",
    "        centroids = None\n",
    "        ### END YOUR CODE ###\n",
    "    \n",
    "    return closest_indices, centroids"
   ]
  },
  {
   "cell_type": "code",
   "execution_count": null,
   "metadata": {},
   "outputs": [],
   "source": [
    "# Evaluate Task 5\n",
    "closest_indices, centroids = kmeans(X, 3)\n",
    "\n",
    "print('closest_indices[:10]', closest_indices[:10])\n",
    "print('closest_indices[70:80]', closest_indices[70:80])\n",
    "print('closest_indices[140:150]', closest_indices[140:150])\n",
    "print('closest_indices[210:220]', closest_indices[210:220])"
   ]
  },
  {
   "cell_type": "markdown",
   "metadata": {},
   "source": [
    "### Expected output\n",
    "\n",
    "|&nbsp;|&nbsp; |          \n",
    "|--|--|\n",
    "|**closest_indices[:10]**|[1 1 0 0 1 1 1 1 1 0]|\n",
    "|**closest_indices[70:80]**|[1 1 1 1 1 1 1 1 1 1]|\n",
    "|**closest_indices[140:150]**|[1 1 1 1 1 1 1 1 1 0]|\n",
    "|**closest_indices[210:220]**|[2 1 1 1 2 2 2 2 2 2]|\n",
    "\n",
    "***\n",
    "\n",
    "## Visualize clustering result using PCA (ungraded)\n",
    "\n"
   ]
  },
  {
   "cell_type": "code",
   "execution_count": null,
   "metadata": {},
   "outputs": [],
   "source": [
    "from sklearn.decomposition import PCA\n",
    "\n",
    "pca = PCA(n_components=2)\n",
    "pca.fit(X.T)\n",
    "X_proj = pca.transform(X.T)\n",
    "\n",
    "# Cluster and \n",
    "fig = plt.figure(figsize=(12, 3.5))\n",
    "\n",
    "closest_indices, centroids = kmeans(X, 3)\n",
    "fig.add_subplot(1, 2, 1)\n",
    "plt.scatter(X_proj[closest_indices==0, 0], X_proj[closest_indices==0, 1])\n",
    "plt.scatter(X_proj[closest_indices==1, 0], X_proj[closest_indices==1, 1])\n",
    "plt.scatter(X_proj[closest_indices==2, 0], X_proj[closest_indices==2, 1])\n",
    "plt.title('Clustering result of k=3')\n",
    "\n",
    "closest_indices, centroids = kmeans(X, 4)\n",
    "fig.add_subplot(1, 2, 2)\n",
    "plt.scatter(X_proj[closest_indices==0, 0], X_proj[closest_indices==0, 1])\n",
    "plt.scatter(X_proj[closest_indices==1, 0], X_proj[closest_indices==1, 1])\n",
    "plt.scatter(X_proj[closest_indices==2, 0], X_proj[closest_indices==2, 1])\n",
    "plt.scatter(X_proj[closest_indices==3, 0], X_proj[closest_indices==3, 1])\n",
    "plt.title('Clustering result of k=4')\n",
    "\n",
    "plt.show()"
   ]
  },
  {
   "cell_type": "markdown",
   "metadata": {},
   "source": [
    "***\n",
    " Let's compare with the ground truth, i.e., labeled data."
   ]
  },
  {
   "cell_type": "code",
   "execution_count": null,
   "metadata": {},
   "outputs": [],
   "source": [
    "fig = plt.figure(figsize=(6, 3.5))\n",
    "\n",
    "plt.scatter(X_proj[:163, 0], X_proj[:163, 1])\n",
    "plt.scatter(X_proj[163:327, 0], X_proj[163:327, 1])\n",
    "plt.scatter(X_proj[327:491, 0], X_proj[327:491, 1])\n",
    "\n",
    "plt.show()"
   ]
  },
  {
   "cell_type": "markdown",
   "metadata": {},
   "source": [
    "Looks like k-means cannot distinguish the 2nd and 3rd classes, and it is also sensitive to outliers."
   ]
  },
  {
   "cell_type": "code",
   "execution_count": null,
   "metadata": {},
   "outputs": [],
   "source": []
  }
 ],
 "metadata": {
  "kernelspec": {
   "display_name": "Python 3 (ipykernel)",
   "language": "python",
   "name": "python3"
  },
  "language_info": {
   "codemirror_mode": {
    "name": "ipython",
    "version": 3
   },
   "file_extension": ".py",
   "mimetype": "text/x-python",
   "name": "python",
   "nbconvert_exporter": "python",
   "pygments_lexer": "ipython3",
   "version": "3.7.11"
  }
 },
 "nbformat": 4,
 "nbformat_minor": 4
}
